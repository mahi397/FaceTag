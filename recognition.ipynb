{
  "nbformat": 4,
  "nbformat_minor": 0,
  "metadata": {
    "colab": {
      "name": "recognition.ipynb",
      "provenance": []
    },
    "kernelspec": {
      "name": "python3",
      "display_name": "Python 3"
    },
    "accelerator": "GPU"
  },
  "cells": [
    {
      "cell_type": "code",
      "metadata": {
        "id": "aAi1aqy60x-s",
        "colab_type": "code",
        "outputId": "74a7fc59-218a-4d91-d7c6-009511b14617",
        "colab": {
          "base_uri": "https://localhost:8080/",
          "height": 326
        }
      },
      "source": [
        "!pip install face_recognition"
      ],
      "execution_count": 1,
      "outputs": [
        {
          "output_type": "stream",
          "text": [
            "Collecting face_recognition\n",
            "  Downloading https://files.pythonhosted.org/packages/3f/ed/ad9a28042f373d4633fc8b49109b623597d6f193d3bbbef7780a5ee8eef2/face_recognition-1.2.3-py2.py3-none-any.whl\n",
            "Requirement already satisfied: Pillow in /usr/local/lib/python3.6/dist-packages (from face_recognition) (4.3.0)\n",
            "Requirement already satisfied: Click>=6.0 in /usr/local/lib/python3.6/dist-packages (from face_recognition) (7.0)\n",
            "Requirement already satisfied: dlib>=19.7 in /usr/local/lib/python3.6/dist-packages (from face_recognition) (19.16.0)\n",
            "Requirement already satisfied: numpy in /usr/local/lib/python3.6/dist-packages (from face_recognition) (1.16.5)\n",
            "Collecting face-recognition-models>=0.3.0\n",
            "\u001b[?25l  Downloading https://files.pythonhosted.org/packages/cf/3b/4fd8c534f6c0d1b80ce0973d01331525538045084c73c153ee6df20224cf/face_recognition_models-0.3.0.tar.gz (100.1MB)\n",
            "\u001b[K     |████████████████████████████████| 100.2MB 108kB/s \n",
            "\u001b[?25hRequirement already satisfied: olefile in /usr/local/lib/python3.6/dist-packages (from Pillow->face_recognition) (0.46)\n",
            "Building wheels for collected packages: face-recognition-models\n",
            "  Building wheel for face-recognition-models (setup.py) ... \u001b[?25l\u001b[?25hdone\n",
            "  Created wheel for face-recognition-models: filename=face_recognition_models-0.3.0-py2.py3-none-any.whl size=100566176 sha256=d2ad2856bb9028ef7808883efb73c777e6a06f36fb0c6a921f63056e2378ca8d\n",
            "  Stored in directory: /root/.cache/pip/wheels/d2/99/18/59c6c8f01e39810415c0e63f5bede7d83dfb0ffc039865465f\n",
            "Successfully built face-recognition-models\n",
            "Installing collected packages: face-recognition-models, face-recognition\n",
            "Successfully installed face-recognition-1.2.3 face-recognition-models-0.3.0\n"
          ],
          "name": "stdout"
        }
      ]
    },
    {
      "cell_type": "code",
      "metadata": {
        "id": "l1fkHvDh0LS_",
        "colab_type": "code",
        "outputId": "a02e17c8-aff4-4f86-a2e2-dd3874b4599f",
        "colab": {
          "base_uri": "https://localhost:8080/",
          "height": 68
        }
      },
      "source": [
        "import face_recognition\n",
        "\n",
        "# Load the jpg files into numpy arrays\n",
        "first_image = face_recognition.load_image_file(\"/content/Amanda Crew70.jpg\")\n",
        "second_image = face_recognition.load_image_file(\"/content/Amanda Crew59.jpg\")\n",
        "unknown_image = face_recognition.load_image_file(\"/content/Amanda Crew83.jpg\")\n",
        "\n",
        "# Get the face encodings for each face in each image file\n",
        "# Since there could be more than one face in each image, it returns a list of encodings.\n",
        "# But since I know each image only has one face, I only care about the first encoding in each image, so I grab index 0.\n",
        "try:\n",
        "    first_face_encoding = face_recognition.face_encodings(first_image)[0]\n",
        "    second_face_encoding = face_recognition.face_encodings(second_image)[0]\n",
        "    unknown_face_encoding = face_recognition.face_encodings(unknown_image)[0]\n",
        "except IndexError:\n",
        "    print(\"I wasn't able to locate any faces in at least one of the images. Check the image files. Aborting...\")\n",
        "    quit()\n",
        "\n",
        "known_faces = [\n",
        "    first_face_encoding,\n",
        "    second_face_encoding\n",
        "]\n",
        "\n",
        "# results is an array of True/False telling if the unknown face matched anyone in the known_faces array\n",
        "results = face_recognition.compare_faces(known_faces, unknown_face_encoding)\n",
        "\n",
        "print(\"Is the unknown face a picture of first person? {}\".format(results[0]))\n",
        "print(\"Is the unknown face a picture of second person? {}\".format(results[1]))\n",
        "print(\"Is the unknown face a new person that we've never seen before? {}\".format(not True in results))"
      ],
      "execution_count": 3,
      "outputs": [
        {
          "output_type": "stream",
          "text": [
            "Is the unknown face a picture of first person? True\n",
            "Is the unknown face a picture of second person? True\n",
            "Is the unknown face a new person that we've never seen before? False\n"
          ],
          "name": "stdout"
        }
      ]
    },
    {
      "cell_type": "code",
      "metadata": {
        "id": "Z_c7EbhE0wuE",
        "colab_type": "code",
        "colab": {}
      },
      "source": [
        ""
      ],
      "execution_count": 0,
      "outputs": []
    }
  ]
}